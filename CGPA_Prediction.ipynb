{
  "cells": [
    {
      "cell_type": "code",
      "execution_count": null,
      "metadata": {
        "id": "nMB6Yf5LjAkC"
      },
      "outputs": [],
      "source": [
        "import pandas as pd\n",
        "import numpy as np\n",
        "import matplotlib.pyplot as plt\n",
        "from sklearn.linear_model import LinearRegression\n",
        "from sklearn.model_selection import train_test_split\n",
        "from sklearn.ensemble import RandomForestRegressor\n",
        "import gradio as gr ##used to implement UI/UX"
      ]
    },
    {
      "cell_type": "markdown",
      "metadata": {
        "id": "JQI2kTG4jAkD"
      },
      "source": [
        "# Preprocessing of Dataset"
      ]
    },
    {
      "cell_type": "code",
      "execution_count": null,
      "metadata": {
        "id": "uuKPb0TrjAkE"
      },
      "outputs": [],
      "source": [
        "dataset=pd.read_csv('The_Grades_Dataset.csv') #reading dataset"
      ]
    },
    {
      "cell_type": "code",
      "execution_count": null,
      "metadata": {
        "id": "JMgSuzkWjAkE",
        "outputId": "061ccc8a-6a2f-43d6-d4fc-bf6931b66737"
      },
      "outputs": [
        {
          "data": {
            "text/html": [
              "<div>\n",
              "<style scoped>\n",
              "    .dataframe tbody tr th:only-of-type {\n",
              "        vertical-align: middle;\n",
              "    }\n",
              "\n",
              "    .dataframe tbody tr th {\n",
              "        vertical-align: top;\n",
              "    }\n",
              "\n",
              "    .dataframe thead th {\n",
              "        text-align: right;\n",
              "    }\n",
              "</style>\n",
              "<table border=\"1\" class=\"dataframe\">\n",
              "  <thead>\n",
              "    <tr style=\"text-align: right;\">\n",
              "      <th></th>\n",
              "      <th>Seat No.</th>\n",
              "      <th>PH-121</th>\n",
              "      <th>HS-101</th>\n",
              "      <th>CY-105</th>\n",
              "      <th>HS-105/12</th>\n",
              "      <th>MT-111</th>\n",
              "      <th>CS-105</th>\n",
              "      <th>CS-106</th>\n",
              "      <th>EL-102</th>\n",
              "      <th>EE-119</th>\n",
              "      <th>...</th>\n",
              "      <th>CS-312</th>\n",
              "      <th>CS-317</th>\n",
              "      <th>CS-403</th>\n",
              "      <th>CS-421</th>\n",
              "      <th>CS-406</th>\n",
              "      <th>CS-414</th>\n",
              "      <th>CS-419</th>\n",
              "      <th>CS-423</th>\n",
              "      <th>CS-412</th>\n",
              "      <th>CGPA</th>\n",
              "    </tr>\n",
              "  </thead>\n",
              "  <tbody>\n",
              "    <tr>\n",
              "      <th>0</th>\n",
              "      <td>CS-97001</td>\n",
              "      <td>B-</td>\n",
              "      <td>D+</td>\n",
              "      <td>C-</td>\n",
              "      <td>C</td>\n",
              "      <td>C-</td>\n",
              "      <td>D+</td>\n",
              "      <td>D</td>\n",
              "      <td>C-</td>\n",
              "      <td>B-</td>\n",
              "      <td>...</td>\n",
              "      <td>C-</td>\n",
              "      <td>C-</td>\n",
              "      <td>C-</td>\n",
              "      <td>C-</td>\n",
              "      <td>A-</td>\n",
              "      <td>A</td>\n",
              "      <td>C-</td>\n",
              "      <td>B</td>\n",
              "      <td>A-</td>\n",
              "      <td>2.205</td>\n",
              "    </tr>\n",
              "    <tr>\n",
              "      <th>1</th>\n",
              "      <td>CS-97002</td>\n",
              "      <td>A</td>\n",
              "      <td>D</td>\n",
              "      <td>D+</td>\n",
              "      <td>D</td>\n",
              "      <td>B-</td>\n",
              "      <td>C</td>\n",
              "      <td>D</td>\n",
              "      <td>A</td>\n",
              "      <td>D+</td>\n",
              "      <td>...</td>\n",
              "      <td>D+</td>\n",
              "      <td>D</td>\n",
              "      <td>C</td>\n",
              "      <td>D</td>\n",
              "      <td>A-</td>\n",
              "      <td>B-</td>\n",
              "      <td>C</td>\n",
              "      <td>C</td>\n",
              "      <td>B</td>\n",
              "      <td>2.008</td>\n",
              "    </tr>\n",
              "    <tr>\n",
              "      <th>2</th>\n",
              "      <td>CS-97003</td>\n",
              "      <td>A</td>\n",
              "      <td>B</td>\n",
              "      <td>A</td>\n",
              "      <td>B-</td>\n",
              "      <td>B+</td>\n",
              "      <td>A</td>\n",
              "      <td>B-</td>\n",
              "      <td>B+</td>\n",
              "      <td>A-</td>\n",
              "      <td>...</td>\n",
              "      <td>B</td>\n",
              "      <td>B</td>\n",
              "      <td>A</td>\n",
              "      <td>C</td>\n",
              "      <td>A</td>\n",
              "      <td>A</td>\n",
              "      <td>A</td>\n",
              "      <td>A-</td>\n",
              "      <td>A</td>\n",
              "      <td>3.608</td>\n",
              "    </tr>\n",
              "    <tr>\n",
              "      <th>3</th>\n",
              "      <td>CS-97004</td>\n",
              "      <td>D</td>\n",
              "      <td>C+</td>\n",
              "      <td>D+</td>\n",
              "      <td>D</td>\n",
              "      <td>D</td>\n",
              "      <td>A-</td>\n",
              "      <td>D+</td>\n",
              "      <td>C-</td>\n",
              "      <td>D</td>\n",
              "      <td>...</td>\n",
              "      <td>D+</td>\n",
              "      <td>C</td>\n",
              "      <td>D+</td>\n",
              "      <td>C-</td>\n",
              "      <td>B-</td>\n",
              "      <td>B</td>\n",
              "      <td>C+</td>\n",
              "      <td>C+</td>\n",
              "      <td>C+</td>\n",
              "      <td>1.906</td>\n",
              "    </tr>\n",
              "    <tr>\n",
              "      <th>4</th>\n",
              "      <td>CS-97005</td>\n",
              "      <td>A-</td>\n",
              "      <td>A-</td>\n",
              "      <td>A-</td>\n",
              "      <td>B+</td>\n",
              "      <td>A</td>\n",
              "      <td>A</td>\n",
              "      <td>A-</td>\n",
              "      <td>B+</td>\n",
              "      <td>A</td>\n",
              "      <td>...</td>\n",
              "      <td>B-</td>\n",
              "      <td>B+</td>\n",
              "      <td>B+</td>\n",
              "      <td>B-</td>\n",
              "      <td>A-</td>\n",
              "      <td>A</td>\n",
              "      <td>A-</td>\n",
              "      <td>A-</td>\n",
              "      <td>A</td>\n",
              "      <td>3.448</td>\n",
              "    </tr>\n",
              "  </tbody>\n",
              "</table>\n",
              "<p>5 rows × 43 columns</p>\n",
              "</div>"
            ],
            "text/plain": [
              "   Seat No. PH-121 HS-101 CY-105 HS-105/12 MT-111 CS-105 CS-106 EL-102 EE-119  \\\n",
              "0  CS-97001     B-     D+     C-         C     C-     D+      D     C-     B-   \n",
              "1  CS-97002      A      D     D+         D     B-      C      D      A     D+   \n",
              "2  CS-97003      A      B      A        B-     B+      A     B-     B+     A-   \n",
              "3  CS-97004      D     C+     D+         D      D     A-     D+     C-      D   \n",
              "4  CS-97005     A-     A-     A-        B+      A      A     A-     B+      A   \n",
              "\n",
              "   ... CS-312 CS-317 CS-403 CS-421 CS-406 CS-414 CS-419 CS-423 CS-412   CGPA  \n",
              "0  ...     C-     C-     C-     C-     A-      A     C-      B     A-  2.205  \n",
              "1  ...     D+      D      C      D     A-     B-      C      C      B  2.008  \n",
              "2  ...      B      B      A      C      A      A      A     A-      A  3.608  \n",
              "3  ...     D+      C     D+     C-     B-      B     C+     C+     C+  1.906  \n",
              "4  ...     B-     B+     B+     B-     A-      A     A-     A-      A  3.448  \n",
              "\n",
              "[5 rows x 43 columns]"
            ]
          },
          "execution_count": 112,
          "metadata": {},
          "output_type": "execute_result"
        }
      ],
      "source": [
        "dataset.head()"
      ]
    },
    {
      "cell_type": "code",
      "execution_count": null,
      "metadata": {
        "id": "pIdfqcqZjAkF"
      },
      "outputs": [],
      "source": [
        "#Checking for null values and filling them with average of all the feature values\n",
        "features_with_null = [features for features in dataset if dataset[features].isnull().sum()]\n",
        "for each_feature in features_with_null:\n",
        "    dataset[each_feature] = dataset[each_feature].fillna(dataset[each_feature].mode()[0])"
      ]
    },
    {
      "cell_type": "code",
      "execution_count": null,
      "metadata": {
        "id": "jfnNAj2xjAkF",
        "outputId": "dea7667b-692c-4693-e869-584b63ee728d"
      },
      "outputs": [
        {
          "data": {
            "text/plain": [
              "Seat No.     0\n",
              "PH-121       0\n",
              "HS-101       0\n",
              "CY-105       0\n",
              "HS-105/12    0\n",
              "MT-111       0\n",
              "CS-105       0\n",
              "CS-106       0\n",
              "EL-102       0\n",
              "EE-119       0\n",
              "ME-107       0\n",
              "CS-107       0\n",
              "HS-205/20    0\n",
              "MT-222       0\n",
              "EE-222       0\n",
              "MT-224       0\n",
              "CS-210       0\n",
              "CS-211       0\n",
              "CS-203       0\n",
              "CS-214       0\n",
              "EE-217       0\n",
              "CS-212       0\n",
              "CS-215       0\n",
              "MT-331       0\n",
              "EF-303       0\n",
              "HS-304       0\n",
              "CS-301       0\n",
              "CS-302       0\n",
              "TC-383       0\n",
              "MT-442       0\n",
              "EL-332       0\n",
              "CS-318       0\n",
              "CS-306       0\n",
              "CS-312       0\n",
              "CS-317       0\n",
              "CS-403       0\n",
              "CS-421       0\n",
              "CS-406       0\n",
              "CS-414       0\n",
              "CS-419       0\n",
              "CS-423       0\n",
              "CS-412       0\n",
              "CGPA         0\n",
              "dtype: int64"
            ]
          },
          "execution_count": 114,
          "metadata": {},
          "output_type": "execute_result"
        }
      ],
      "source": [
        "dataset.isnull().sum() #again checking for null values"
      ]
    },
    {
      "cell_type": "code",
      "execution_count": null,
      "metadata": {
        "id": "XenCJsf5jAkG"
      },
      "outputs": [],
      "source": [
        "# Converting grades of courses in the dataset to their corresponding GPA values\n",
        "# i.e converting qualitative data into quantitative data in the dataset to feed to regression algorithm\n",
        "courses = ['PH-121','HS-101','CY-105','HS-105/12','MT-111','CS-105','CS-106','EL-102','EE-119','ME-107','CS-107',\n",
        "           'HS-205/20','MT-222','EE-222','MT-224','CS-210','CS-211','CS-203','CS-214','EE-217','CS-212','CS-215',\n",
        "           'MT-331','EF-303','HS-304','CS-301','CS-302','TC-383','MT-442','EL-332','CS-318','CS-306','CS-312','CS-317',\n",
        "           'CS-403','CS-421','CS-406','CS-414','CS-419','CS-423','CS-412']\n",
        "for i in courses:\n",
        "        dataset[i]=dataset[i].replace('A+',4.0)\n",
        "        dataset[i]=dataset[i].replace('A',4.0)\n",
        "        dataset[i]=dataset[i].replace('A-',3.7)\n",
        "        dataset[i]=dataset[i].replace('B+',3.4)\n",
        "        dataset[i]=dataset[i].replace('B',3.0)\n",
        "        dataset[i]=dataset[i].replace('B-',2.7)\n",
        "        dataset[i]=dataset[i].replace('C+',2.4)\n",
        "        dataset[i]=dataset[i].replace('C',2.0)\n",
        "        dataset[i]=dataset[i].replace('C-',1.7)\n",
        "        dataset[i]=dataset[i].replace('D+',1.4)\n",
        "        dataset[i]=dataset[i].replace('D',1.0)\n",
        "        dataset[i]=dataset[i].replace('F',0.0)\n",
        "        dataset[i]=dataset[i].replace('IP',0.0)\n",
        "        dataset[i]=dataset[i].replace('P',0.0)\n",
        "        dataset[i]=dataset[i].replace('X',0.0)\n",
        "        dataset[i]=dataset[i].replace('I',0.0)\n",
        "        dataset[i]=dataset[i].replace('W',0.0)\n",
        "        dataset[i]=dataset[i].replace('WU',0.0)"
      ]
    },
    {
      "cell_type": "code",
      "execution_count": null,
      "metadata": {
        "id": "W5HtnGqGjAkH",
        "outputId": "d88037ea-2bfe-46c0-9f0f-d9e07c09b376"
      },
      "outputs": [
        {
          "data": {
            "text/html": [
              "<div>\n",
              "<style scoped>\n",
              "    .dataframe tbody tr th:only-of-type {\n",
              "        vertical-align: middle;\n",
              "    }\n",
              "\n",
              "    .dataframe tbody tr th {\n",
              "        vertical-align: top;\n",
              "    }\n",
              "\n",
              "    .dataframe thead th {\n",
              "        text-align: right;\n",
              "    }\n",
              "</style>\n",
              "<table border=\"1\" class=\"dataframe\">\n",
              "  <thead>\n",
              "    <tr style=\"text-align: right;\">\n",
              "      <th></th>\n",
              "      <th>Seat No.</th>\n",
              "      <th>PH-121</th>\n",
              "      <th>HS-101</th>\n",
              "      <th>CY-105</th>\n",
              "      <th>HS-105/12</th>\n",
              "      <th>MT-111</th>\n",
              "      <th>CS-105</th>\n",
              "      <th>CS-106</th>\n",
              "      <th>EL-102</th>\n",
              "      <th>EE-119</th>\n",
              "      <th>...</th>\n",
              "      <th>CS-312</th>\n",
              "      <th>CS-317</th>\n",
              "      <th>CS-403</th>\n",
              "      <th>CS-421</th>\n",
              "      <th>CS-406</th>\n",
              "      <th>CS-414</th>\n",
              "      <th>CS-419</th>\n",
              "      <th>CS-423</th>\n",
              "      <th>CS-412</th>\n",
              "      <th>CGPA</th>\n",
              "    </tr>\n",
              "  </thead>\n",
              "  <tbody>\n",
              "    <tr>\n",
              "      <th>0</th>\n",
              "      <td>CS-97001</td>\n",
              "      <td>2.7</td>\n",
              "      <td>1.4</td>\n",
              "      <td>1.7</td>\n",
              "      <td>2.0</td>\n",
              "      <td>1.7</td>\n",
              "      <td>1.4</td>\n",
              "      <td>1.0</td>\n",
              "      <td>1.7</td>\n",
              "      <td>2.7</td>\n",
              "      <td>...</td>\n",
              "      <td>1.7</td>\n",
              "      <td>1.7</td>\n",
              "      <td>1.7</td>\n",
              "      <td>1.7</td>\n",
              "      <td>3.7</td>\n",
              "      <td>4.0</td>\n",
              "      <td>1.7</td>\n",
              "      <td>3.0</td>\n",
              "      <td>3.7</td>\n",
              "      <td>2.205</td>\n",
              "    </tr>\n",
              "    <tr>\n",
              "      <th>1</th>\n",
              "      <td>CS-97002</td>\n",
              "      <td>4.0</td>\n",
              "      <td>1.0</td>\n",
              "      <td>1.4</td>\n",
              "      <td>1.0</td>\n",
              "      <td>2.7</td>\n",
              "      <td>2.0</td>\n",
              "      <td>1.0</td>\n",
              "      <td>4.0</td>\n",
              "      <td>1.4</td>\n",
              "      <td>...</td>\n",
              "      <td>1.4</td>\n",
              "      <td>1.0</td>\n",
              "      <td>2.0</td>\n",
              "      <td>1.0</td>\n",
              "      <td>3.7</td>\n",
              "      <td>2.7</td>\n",
              "      <td>2.0</td>\n",
              "      <td>2.0</td>\n",
              "      <td>3.0</td>\n",
              "      <td>2.008</td>\n",
              "    </tr>\n",
              "    <tr>\n",
              "      <th>2</th>\n",
              "      <td>CS-97003</td>\n",
              "      <td>4.0</td>\n",
              "      <td>3.0</td>\n",
              "      <td>4.0</td>\n",
              "      <td>2.7</td>\n",
              "      <td>3.4</td>\n",
              "      <td>4.0</td>\n",
              "      <td>2.7</td>\n",
              "      <td>3.4</td>\n",
              "      <td>3.7</td>\n",
              "      <td>...</td>\n",
              "      <td>3.0</td>\n",
              "      <td>3.0</td>\n",
              "      <td>4.0</td>\n",
              "      <td>2.0</td>\n",
              "      <td>4.0</td>\n",
              "      <td>4.0</td>\n",
              "      <td>4.0</td>\n",
              "      <td>3.7</td>\n",
              "      <td>4.0</td>\n",
              "      <td>3.608</td>\n",
              "    </tr>\n",
              "    <tr>\n",
              "      <th>3</th>\n",
              "      <td>CS-97004</td>\n",
              "      <td>1.0</td>\n",
              "      <td>2.4</td>\n",
              "      <td>1.4</td>\n",
              "      <td>1.0</td>\n",
              "      <td>1.0</td>\n",
              "      <td>3.7</td>\n",
              "      <td>1.4</td>\n",
              "      <td>1.7</td>\n",
              "      <td>1.0</td>\n",
              "      <td>...</td>\n",
              "      <td>1.4</td>\n",
              "      <td>2.0</td>\n",
              "      <td>1.4</td>\n",
              "      <td>1.7</td>\n",
              "      <td>2.7</td>\n",
              "      <td>3.0</td>\n",
              "      <td>2.4</td>\n",
              "      <td>2.4</td>\n",
              "      <td>2.4</td>\n",
              "      <td>1.906</td>\n",
              "    </tr>\n",
              "    <tr>\n",
              "      <th>4</th>\n",
              "      <td>CS-97005</td>\n",
              "      <td>3.7</td>\n",
              "      <td>3.7</td>\n",
              "      <td>3.7</td>\n",
              "      <td>3.4</td>\n",
              "      <td>4.0</td>\n",
              "      <td>4.0</td>\n",
              "      <td>3.7</td>\n",
              "      <td>3.4</td>\n",
              "      <td>4.0</td>\n",
              "      <td>...</td>\n",
              "      <td>2.7</td>\n",
              "      <td>3.4</td>\n",
              "      <td>3.4</td>\n",
              "      <td>2.7</td>\n",
              "      <td>3.7</td>\n",
              "      <td>4.0</td>\n",
              "      <td>3.7</td>\n",
              "      <td>3.7</td>\n",
              "      <td>4.0</td>\n",
              "      <td>3.448</td>\n",
              "    </tr>\n",
              "  </tbody>\n",
              "</table>\n",
              "<p>5 rows × 43 columns</p>\n",
              "</div>"
            ],
            "text/plain": [
              "   Seat No.  PH-121  HS-101  CY-105  HS-105/12  MT-111  CS-105  CS-106  \\\n",
              "0  CS-97001     2.7     1.4     1.7        2.0     1.7     1.4     1.0   \n",
              "1  CS-97002     4.0     1.0     1.4        1.0     2.7     2.0     1.0   \n",
              "2  CS-97003     4.0     3.0     4.0        2.7     3.4     4.0     2.7   \n",
              "3  CS-97004     1.0     2.4     1.4        1.0     1.0     3.7     1.4   \n",
              "4  CS-97005     3.7     3.7     3.7        3.4     4.0     4.0     3.7   \n",
              "\n",
              "   EL-102  EE-119  ...  CS-312  CS-317  CS-403  CS-421  CS-406  CS-414  \\\n",
              "0     1.7     2.7  ...     1.7     1.7     1.7     1.7     3.7     4.0   \n",
              "1     4.0     1.4  ...     1.4     1.0     2.0     1.0     3.7     2.7   \n",
              "2     3.4     3.7  ...     3.0     3.0     4.0     2.0     4.0     4.0   \n",
              "3     1.7     1.0  ...     1.4     2.0     1.4     1.7     2.7     3.0   \n",
              "4     3.4     4.0  ...     2.7     3.4     3.4     2.7     3.7     4.0   \n",
              "\n",
              "   CS-419  CS-423  CS-412   CGPA  \n",
              "0     1.7     3.0     3.7  2.205  \n",
              "1     2.0     2.0     3.0  2.008  \n",
              "2     4.0     3.7     4.0  3.608  \n",
              "3     2.4     2.4     2.4  1.906  \n",
              "4     3.7     3.7     4.0  3.448  \n",
              "\n",
              "[5 rows x 43 columns]"
            ]
          },
          "execution_count": 116,
          "metadata": {},
          "output_type": "execute_result"
        }
      ],
      "source": [
        "dataset.head()"
      ]
    },
    {
      "cell_type": "code",
      "execution_count": null,
      "metadata": {
        "id": "YjMWEV9SjAkH",
        "outputId": "4bf68640-5f5d-4be1-99a0-a326920ab8f9"
      },
      "outputs": [
        {
          "data": {
            "text/html": [
              "<div>\n",
              "<style scoped>\n",
              "    .dataframe tbody tr th:only-of-type {\n",
              "        vertical-align: middle;\n",
              "    }\n",
              "\n",
              "    .dataframe tbody tr th {\n",
              "        vertical-align: top;\n",
              "    }\n",
              "\n",
              "    .dataframe thead th {\n",
              "        text-align: right;\n",
              "    }\n",
              "</style>\n",
              "<table border=\"1\" class=\"dataframe\">\n",
              "  <thead>\n",
              "    <tr style=\"text-align: right;\">\n",
              "      <th></th>\n",
              "      <th>CGPA</th>\n",
              "    </tr>\n",
              "  </thead>\n",
              "  <tbody>\n",
              "    <tr>\n",
              "      <th>0</th>\n",
              "      <td>2.205</td>\n",
              "    </tr>\n",
              "    <tr>\n",
              "      <th>1</th>\n",
              "      <td>2.008</td>\n",
              "    </tr>\n",
              "    <tr>\n",
              "      <th>2</th>\n",
              "      <td>3.608</td>\n",
              "    </tr>\n",
              "    <tr>\n",
              "      <th>3</th>\n",
              "      <td>1.906</td>\n",
              "    </tr>\n",
              "    <tr>\n",
              "      <th>4</th>\n",
              "      <td>3.448</td>\n",
              "    </tr>\n",
              "  </tbody>\n",
              "</table>\n",
              "</div>"
            ],
            "text/plain": [
              "    CGPA\n",
              "0  2.205\n",
              "1  2.008\n",
              "2  3.608\n",
              "3  1.906\n",
              "4  3.448"
            ]
          },
          "execution_count": 117,
          "metadata": {},
          "output_type": "execute_result"
        }
      ],
      "source": [
        "#separaing label for all the models\n",
        "Y=dataset[['CGPA']]\n",
        "Y.head() #Y=CGPA"
      ]
    },
    {
      "cell_type": "code",
      "execution_count": null,
      "metadata": {
        "id": "Leq55y0GjAkI",
        "outputId": "1070b70c-c01d-4f9b-c6cc-9da29ad7e129"
      },
      "outputs": [
        {
          "data": {
            "image/png": "[encoded data removed]",
            "text/plain": [
              "<Figure size 720x432 with 1 Axes>"
            ]
          },
          "metadata": {
            "needs_background": "light"
          },
          "output_type": "display_data"
        }
      ],
      "source": [
        "plt.figure(figsize=(10,6))\n",
        "X=dataset.drop(['CGPA', 'Seat No.'], axis='columns')\n",
        "x=np.arange(0,len(X),1)\n",
        "plt.scatter(x,Y,alpha=0.3) #alpha sets transparency of dots\n",
        "plt.title('Courses vs CGPA',fontsize=14)\n",
        "plt.xlabel('Courses',fontsize=14)\n",
        "plt.ylabel('CGPA',fontsize=14)\n",
        "plt.xticks(color='red',fontsize=14)\n",
        "plt.yticks(color='red',fontsize=14)\n",
        "plt.show()"
      ]
    },
    {
      "cell_type": "markdown",
      "metadata": {
        "id": "zeKj9ee3jAkJ"
      },
      "source": [
        "# Model 1 (Prediction of CGPA on the Basis of First Year Courses)"
      ]
    },
    {
      "cell_type": "code",
      "execution_count": null,
      "metadata": {
        "id": "fGHy9iudjAkJ",
        "outputId": "a79a2aa7-398c-4e0f-b066-340a6b061df2"
      },
      "outputs": [
        {
          "data": {
            "text/html": [
              "<div>\n",
              "<style scoped>\n",
              "    .dataframe tbody tr th:only-of-type {\n",
              "        vertical-align: middle;\n",
              "    }\n",
              "\n",
              "    .dataframe tbody tr th {\n",
              "        vertical-align: top;\n",
              "    }\n",
              "\n",
              "    .dataframe thead th {\n",
              "        text-align: right;\n",
              "    }\n",
              "</style>\n",
              "<table border=\"1\" class=\"dataframe\">\n",
              "  <thead>\n",
              "    <tr style=\"text-align: right;\">\n",
              "      <th></th>\n",
              "      <th>PH-121</th>\n",
              "      <th>HS-101</th>\n",
              "      <th>CY-105</th>\n",
              "      <th>HS-105/12</th>\n",
              "      <th>MT-111</th>\n",
              "      <th>CS-105</th>\n",
              "      <th>CS-106</th>\n",
              "      <th>EL-102</th>\n",
              "      <th>EE-119</th>\n",
              "      <th>ME-107</th>\n",
              "      <th>CS-107</th>\n",
              "    </tr>\n",
              "  </thead>\n",
              "  <tbody>\n",
              "    <tr>\n",
              "      <th>0</th>\n",
              "      <td>2.7</td>\n",
              "      <td>1.4</td>\n",
              "      <td>1.7</td>\n",
              "      <td>2.0</td>\n",
              "      <td>1.7</td>\n",
              "      <td>1.4</td>\n",
              "      <td>1.0</td>\n",
              "      <td>1.7</td>\n",
              "      <td>2.7</td>\n",
              "      <td>1.7</td>\n",
              "      <td>1.7</td>\n",
              "    </tr>\n",
              "    <tr>\n",
              "      <th>1</th>\n",
              "      <td>4.0</td>\n",
              "      <td>1.0</td>\n",
              "      <td>1.4</td>\n",
              "      <td>1.0</td>\n",
              "      <td>2.7</td>\n",
              "      <td>2.0</td>\n",
              "      <td>1.0</td>\n",
              "      <td>4.0</td>\n",
              "      <td>1.4</td>\n",
              "      <td>1.0</td>\n",
              "      <td>3.4</td>\n",
              "    </tr>\n",
              "    <tr>\n",
              "      <th>2</th>\n",
              "      <td>4.0</td>\n",
              "      <td>3.0</td>\n",
              "      <td>4.0</td>\n",
              "      <td>2.7</td>\n",
              "      <td>3.4</td>\n",
              "      <td>4.0</td>\n",
              "      <td>2.7</td>\n",
              "      <td>3.4</td>\n",
              "      <td>3.7</td>\n",
              "      <td>3.7</td>\n",
              "      <td>2.7</td>\n",
              "    </tr>\n",
              "    <tr>\n",
              "      <th>3</th>\n",
              "      <td>1.0</td>\n",
              "      <td>2.4</td>\n",
              "      <td>1.4</td>\n",
              "      <td>1.0</td>\n",
              "      <td>1.0</td>\n",
              "      <td>3.7</td>\n",
              "      <td>1.4</td>\n",
              "      <td>1.7</td>\n",
              "      <td>1.0</td>\n",
              "      <td>2.4</td>\n",
              "      <td>1.0</td>\n",
              "    </tr>\n",
              "    <tr>\n",
              "      <th>4</th>\n",
              "      <td>3.7</td>\n",
              "      <td>3.7</td>\n",
              "      <td>3.7</td>\n",
              "      <td>3.4</td>\n",
              "      <td>4.0</td>\n",
              "      <td>4.0</td>\n",
              "      <td>3.7</td>\n",
              "      <td>3.4</td>\n",
              "      <td>4.0</td>\n",
              "      <td>3.7</td>\n",
              "      <td>2.0</td>\n",
              "    </tr>\n",
              "  </tbody>\n",
              "</table>\n",
              "</div>"
            ],
            "text/plain": [
              "   PH-121  HS-101  CY-105  HS-105/12  MT-111  CS-105  CS-106  EL-102  EE-119  \\\n",
              "0     2.7     1.4     1.7        2.0     1.7     1.4     1.0     1.7     2.7   \n",
              "1     4.0     1.0     1.4        1.0     2.7     2.0     1.0     4.0     1.4   \n",
              "2     4.0     3.0     4.0        2.7     3.4     4.0     2.7     3.4     3.7   \n",
              "3     1.0     2.4     1.4        1.0     1.0     3.7     1.4     1.7     1.0   \n",
              "4     3.7     3.7     3.7        3.4     4.0     4.0     3.7     3.4     4.0   \n",
              "\n",
              "   ME-107  CS-107  \n",
              "0     1.7     1.7  \n",
              "1     1.0     3.4  \n",
              "2     3.7     2.7  \n",
              "3     2.4     1.0  \n",
              "4     3.7     2.0  "
            ]
          },
          "execution_count": 119,
          "metadata": {},
          "output_type": "execute_result"
        }
      ],
      "source": [
        "#dropping inputs which don't affect the CGPA prediction of first year courses\n",
        "model1X=dataset.drop(['HS-205/20','MT-222','EE-222','MT-224','CS-210','CS-211','CS-203','CS-214','EE-217','CS-212','CS-215',\n",
        "           'MT-331','EF-303','HS-304','CS-301','CS-302','TC-383','MT-442','EL-332','CS-318','CS-306','CS-312','CS-317',\n",
        "           'CS-403','CS-421','CS-406','CS-414','CS-419','CS-423','CS-412', 'Seat No.', 'CGPA'], axis='columns')\n",
        "model1X.head() #Model 1 Features"
      ]
    },
    {
      "cell_type": "code",
      "execution_count": null,
      "metadata": {
        "id": "e9Nul_dVjAkJ"
      },
      "outputs": [],
      "source": [
        "#splitting the dataset into training and testing set on 80:20 ratio\n",
        "X_train,X_test,Y_train,Y_test = train_test_split(model1X, Y,test_size=0.2,random_state=0)"
      ]
    },
    {
      "cell_type": "markdown",
      "metadata": {
        "id": "TDWhBobJjAkK"
      },
      "source": [
        "## Algorithm 1: Linear Regression"
      ]
    },
    {
      "cell_type": "code",
      "execution_count": null,
      "metadata": {
        "id": "bz6FODAEjAkK",
        "outputId": "861048a7-5f5f-44c4-e822-ab4c08792ff9"
      },
      "outputs": [
        {
          "name": "stdout",
          "output_type": "stream",
          "text": [
            "Training Accuracy: 83.97211612644767\n",
            "Testing Accuracy: 81.41336830277862\n"
          ]
        }
      ],
      "source": [
        "#Model 1 1st Algorithm\n",
        "linear1=LinearRegression() #creating an object of linear regression\n",
        "linear1.fit(X_train,Y_train)\n",
        "r_squared=linear1.score(X_test,Y_test) #calculating value for R-squared\n",
        "print('Training Accuracy:',linear1.score(X_train,Y_train)*100)\n",
        "print('Testing Accuracy:',r_squared*100)"
      ]
    },
    {
      "cell_type": "markdown",
      "metadata": {
        "id": "ue4_r7aVjAkK"
      },
      "source": [
        "## Algorithm 2: Random Forest"
      ]
    },
    {
      "cell_type": "code",
      "execution_count": null,
      "metadata": {
        "id": "W4n2oYvCjAkK",
        "outputId": "6e1fd330-e193-495d-89ef-be8fe6438893"
      },
      "outputs": [
        {
          "name": "stdout",
          "output_type": "stream",
          "text": [
            "Training Accuracy: 97.04747594138263\n",
            "Testing Accuracy: 81.10600385584411\n"
          ]
        }
      ],
      "source": [
        "# Model 1 2nd Algorithm\n",
        "forest1=RandomForestRegressor(n_estimators=20,max_depth=10,criterion='mse') # creating object of random forest\n",
        "# train model\n",
        "forest1.fit(X_train,Y_train.values.ravel())\n",
        "print('Training Accuracy:',forest1.score(X_train,Y_train)*100)\n",
        "print('Testing Accuracy:',forest1.score(X_test, Y_test)*100)"
      ]
    },
    {
      "cell_type": "markdown",
      "metadata": {
        "id": "a2qeYqNCjAkK"
      },
      "source": [
        "# Model 2"
      ]
    },
    {
      "cell_type": "code",
      "execution_count": null,
      "metadata": {
        "id": "DSC-ytJ4jAkL",
        "outputId": "7507b0b6-57b9-4a26-f02a-4ab5b3dc73be"
      },
      "outputs": [
        {
          "data": {
            "text/html": [
              "<div>\n",
              "<style scoped>\n",
              "    .dataframe tbody tr th:only-of-type {\n",
              "        vertical-align: middle;\n",
              "    }\n",
              "\n",
              "    .dataframe tbody tr th {\n",
              "        vertical-align: top;\n",
              "    }\n",
              "\n",
              "    .dataframe thead th {\n",
              "        text-align: right;\n",
              "    }\n",
              "</style>\n",
              "<table border=\"1\" class=\"dataframe\">\n",
              "  <thead>\n",
              "    <tr style=\"text-align: right;\">\n",
              "      <th></th>\n",
              "      <th>PH-121</th>\n",
              "      <th>HS-101</th>\n",
              "      <th>CY-105</th>\n",
              "      <th>HS-105/12</th>\n",
              "      <th>MT-111</th>\n",
              "      <th>CS-105</th>\n",
              "      <th>CS-106</th>\n",
              "      <th>EL-102</th>\n",
              "      <th>EE-119</th>\n",
              "      <th>ME-107</th>\n",
              "      <th>...</th>\n",
              "      <th>MT-222</th>\n",
              "      <th>EE-222</th>\n",
              "      <th>MT-224</th>\n",
              "      <th>CS-210</th>\n",
              "      <th>CS-211</th>\n",
              "      <th>CS-203</th>\n",
              "      <th>CS-214</th>\n",
              "      <th>EE-217</th>\n",
              "      <th>CS-212</th>\n",
              "      <th>CS-215</th>\n",
              "    </tr>\n",
              "  </thead>\n",
              "  <tbody>\n",
              "    <tr>\n",
              "      <th>0</th>\n",
              "      <td>2.7</td>\n",
              "      <td>1.4</td>\n",
              "      <td>1.7</td>\n",
              "      <td>2.0</td>\n",
              "      <td>1.7</td>\n",
              "      <td>1.4</td>\n",
              "      <td>1.0</td>\n",
              "      <td>1.7</td>\n",
              "      <td>2.7</td>\n",
              "      <td>1.7</td>\n",
              "      <td>...</td>\n",
              "      <td>1.0</td>\n",
              "      <td>3.7</td>\n",
              "      <td>2.7</td>\n",
              "      <td>2.4</td>\n",
              "      <td>1.4</td>\n",
              "      <td>1.4</td>\n",
              "      <td>1.0</td>\n",
              "      <td>4.0</td>\n",
              "      <td>1.0</td>\n",
              "      <td>1.7</td>\n",
              "    </tr>\n",
              "    <tr>\n",
              "      <th>1</th>\n",
              "      <td>4.0</td>\n",
              "      <td>1.0</td>\n",
              "      <td>1.4</td>\n",
              "      <td>1.0</td>\n",
              "      <td>2.7</td>\n",
              "      <td>2.0</td>\n",
              "      <td>1.0</td>\n",
              "      <td>4.0</td>\n",
              "      <td>1.4</td>\n",
              "      <td>1.0</td>\n",
              "      <td>...</td>\n",
              "      <td>2.7</td>\n",
              "      <td>1.7</td>\n",
              "      <td>1.4</td>\n",
              "      <td>1.4</td>\n",
              "      <td>1.0</td>\n",
              "      <td>2.0</td>\n",
              "      <td>1.0</td>\n",
              "      <td>2.7</td>\n",
              "      <td>2.0</td>\n",
              "      <td>1.0</td>\n",
              "    </tr>\n",
              "    <tr>\n",
              "      <th>2</th>\n",
              "      <td>4.0</td>\n",
              "      <td>3.0</td>\n",
              "      <td>4.0</td>\n",
              "      <td>2.7</td>\n",
              "      <td>3.4</td>\n",
              "      <td>4.0</td>\n",
              "      <td>2.7</td>\n",
              "      <td>3.4</td>\n",
              "      <td>3.7</td>\n",
              "      <td>3.7</td>\n",
              "      <td>...</td>\n",
              "      <td>4.0</td>\n",
              "      <td>4.0</td>\n",
              "      <td>4.0</td>\n",
              "      <td>4.0</td>\n",
              "      <td>4.0</td>\n",
              "      <td>4.0</td>\n",
              "      <td>3.7</td>\n",
              "      <td>4.0</td>\n",
              "      <td>3.7</td>\n",
              "      <td>4.0</td>\n",
              "    </tr>\n",
              "    <tr>\n",
              "      <th>3</th>\n",
              "      <td>1.0</td>\n",
              "      <td>2.4</td>\n",
              "      <td>1.4</td>\n",
              "      <td>1.0</td>\n",
              "      <td>1.0</td>\n",
              "      <td>3.7</td>\n",
              "      <td>1.4</td>\n",
              "      <td>1.7</td>\n",
              "      <td>1.0</td>\n",
              "      <td>2.4</td>\n",
              "      <td>...</td>\n",
              "      <td>1.4</td>\n",
              "      <td>2.7</td>\n",
              "      <td>1.0</td>\n",
              "      <td>2.0</td>\n",
              "      <td>3.4</td>\n",
              "      <td>2.4</td>\n",
              "      <td>1.0</td>\n",
              "      <td>1.4</td>\n",
              "      <td>1.0</td>\n",
              "      <td>1.0</td>\n",
              "    </tr>\n",
              "    <tr>\n",
              "      <th>4</th>\n",
              "      <td>3.7</td>\n",
              "      <td>3.7</td>\n",
              "      <td>3.7</td>\n",
              "      <td>3.4</td>\n",
              "      <td>4.0</td>\n",
              "      <td>4.0</td>\n",
              "      <td>3.7</td>\n",
              "      <td>3.4</td>\n",
              "      <td>4.0</td>\n",
              "      <td>3.7</td>\n",
              "      <td>...</td>\n",
              "      <td>4.0</td>\n",
              "      <td>3.7</td>\n",
              "      <td>3.7</td>\n",
              "      <td>3.7</td>\n",
              "      <td>2.7</td>\n",
              "      <td>4.0</td>\n",
              "      <td>3.7</td>\n",
              "      <td>4.0</td>\n",
              "      <td>3.7</td>\n",
              "      <td>3.7</td>\n",
              "    </tr>\n",
              "  </tbody>\n",
              "</table>\n",
              "<p>5 rows × 22 columns</p>\n",
              "</div>"
            ],
            "text/plain": [
              "   PH-121  HS-101  CY-105  HS-105/12  MT-111  CS-105  CS-106  EL-102  EE-119  \\\n",
              "0     2.7     1.4     1.7        2.0     1.7     1.4     1.0     1.7     2.7   \n",
              "1     4.0     1.0     1.4        1.0     2.7     2.0     1.0     4.0     1.4   \n",
              "2     4.0     3.0     4.0        2.7     3.4     4.0     2.7     3.4     3.7   \n",
              "3     1.0     2.4     1.4        1.0     1.0     3.7     1.4     1.7     1.0   \n",
              "4     3.7     3.7     3.7        3.4     4.0     4.0     3.7     3.4     4.0   \n",
              "\n",
              "   ME-107  ...  MT-222  EE-222  MT-224  CS-210  CS-211  CS-203  CS-214  \\\n",
              "0     1.7  ...     1.0     3.7     2.7     2.4     1.4     1.4     1.0   \n",
              "1     1.0  ...     2.7     1.7     1.4     1.4     1.0     2.0     1.0   \n",
              "2     3.7  ...     4.0     4.0     4.0     4.0     4.0     4.0     3.7   \n",
              "3     2.4  ...     1.4     2.7     1.0     2.0     3.4     2.4     1.0   \n",
              "4     3.7  ...     4.0     3.7     3.7     3.7     2.7     4.0     3.7   \n",
              "\n",
              "   EE-217  CS-212  CS-215  \n",
              "0     4.0     1.0     1.7  \n",
              "1     2.7     2.0     1.0  \n",
              "2     4.0     3.7     4.0  \n",
              "3     1.4     1.0     1.0  \n",
              "4     4.0     3.7     3.7  \n",
              "\n",
              "[5 rows x 22 columns]"
            ]
          },
          "execution_count": 123,
          "metadata": {},
          "output_type": "execute_result"
        }
      ],
      "source": [
        "#dropping inputs which don't affect the CGPA prediction of first and second year courses\n",
        "model2X=dataset.drop([\"CS-403\",\"CS-421\", \"CS-406\", \"CS-414\", \"CS-419\", \"CS-423\", \"CS-412\", \"MT-442\", \"Seat No.\", \"CGPA\", 'MT-331','EF-303','HS-304','CS-301','CS-302','TC-383','EL-332','CS-318','CS-306','CS-312','CS-317'], axis='columns')\n",
        "model2X.head() # Model 2 Features"
      ]
    },
    {
      "cell_type": "code",
      "execution_count": null,
      "metadata": {
        "id": "4ka84yUYjAkL"
      },
      "outputs": [],
      "source": [
        "# Splitting the dataset into training and testing set on 80:20 ratio\n",
        "X_train,X_test,Y_train,Y_test = train_test_split(model2X, Y,test_size=0.2,random_state=0)"
      ]
    },
    {
      "cell_type": "markdown",
      "metadata": {
        "id": "67t7R1fcjAkL"
      },
      "source": [
        "## Algorithm 1: Linear Regression"
      ]
    },
    {
      "cell_type": "code",
      "execution_count": null,
      "metadata": {
        "id": "5589qhOzjAkL",
        "outputId": "1be19316-db6c-4d01-abb7-549490e65051"
      },
      "outputs": [
        {
          "name": "stdout",
          "output_type": "stream",
          "text": [
            "Training Accuracy: 90.88336931042303\n",
            "Testing Accuracy: 90.66851498286941\n"
          ]
        }
      ],
      "source": [
        "#Model2 First Algorithm\n",
        "linear2=LinearRegression() # creates an object of Linear Regression\n",
        "linear2.fit(X_train,Y_train) #training model\n",
        "r_squared=linear2.score(X_test,Y_test) #calculation R-squared value\n",
        "print('Training Accuracy:',linear2.score(X_train,Y_train)*100)\n",
        "print('Testing Accuracy:',r_squared*100)"
      ]
    },
    {
      "cell_type": "markdown",
      "metadata": {
        "id": "ve7qL5tFjAkL"
      },
      "source": [
        "## Algorithm 2: Random Forest"
      ]
    },
    {
      "cell_type": "code",
      "execution_count": null,
      "metadata": {
        "id": "ZiE3GMzwjAkL",
        "outputId": "126725db-11f4-4b2e-cb34-461d40605470"
      },
      "outputs": [
        {
          "name": "stdout",
          "output_type": "stream",
          "text": [
            "Training Accuracy: 97.91845160887779\n",
            "Testing Accuracy: 90.88146309487611\n"
          ]
        }
      ],
      "source": [
        "#Model 2 2nd Algorithm\n",
        "forest2=RandomForestRegressor(n_estimators=20, max_depth=10, criterion='mse') #create an object of Random Forest\n",
        "forest2.fit(X_train,Y_train.values.ravel()) # train model\n",
        "print('Training Accuracy:',forest2.score(X_train,Y_train)*100)\n",
        "print('Testing Accuracy:',forest2.score(X_test, Y_test)*100)"
      ]
    },
    {
      "cell_type": "markdown",
      "metadata": {
        "id": "pmRwo-XfjAkM"
      },
      "source": [
        "# Model 3"
      ]
    },
    {
      "cell_type": "code",
      "execution_count": null,
      "metadata": {
        "id": "D7VeFO8SjAkM",
        "outputId": "a5c7c6d0-97e1-4582-a545-dc2a9028c9d8"
      },
      "outputs": [
        {
          "data": {
            "text/html": [
              "<div>\n",
              "<style scoped>\n",
              "    .dataframe tbody tr th:only-of-type {\n",
              "        vertical-align: middle;\n",
              "    }\n",
              "\n",
              "    .dataframe tbody tr th {\n",
              "        vertical-align: top;\n",
              "    }\n",
              "\n",
              "    .dataframe thead th {\n",
              "        text-align: right;\n",
              "    }\n",
              "</style>\n",
              "<table border=\"1\" class=\"dataframe\">\n",
              "  <thead>\n",
              "    <tr style=\"text-align: right;\">\n",
              "      <th></th>\n",
              "      <th>PH-121</th>\n",
              "      <th>HS-101</th>\n",
              "      <th>CY-105</th>\n",
              "      <th>HS-105/12</th>\n",
              "      <th>MT-111</th>\n",
              "      <th>CS-105</th>\n",
              "      <th>CS-106</th>\n",
              "      <th>EL-102</th>\n",
              "      <th>EE-119</th>\n",
              "      <th>ME-107</th>\n",
              "      <th>...</th>\n",
              "      <th>EF-303</th>\n",
              "      <th>HS-304</th>\n",
              "      <th>CS-301</th>\n",
              "      <th>CS-302</th>\n",
              "      <th>TC-383</th>\n",
              "      <th>EL-332</th>\n",
              "      <th>CS-318</th>\n",
              "      <th>CS-306</th>\n",
              "      <th>CS-312</th>\n",
              "      <th>CS-317</th>\n",
              "    </tr>\n",
              "  </thead>\n",
              "  <tbody>\n",
              "    <tr>\n",
              "      <th>0</th>\n",
              "      <td>2.7</td>\n",
              "      <td>1.4</td>\n",
              "      <td>1.7</td>\n",
              "      <td>2.0</td>\n",
              "      <td>1.7</td>\n",
              "      <td>1.4</td>\n",
              "      <td>1.0</td>\n",
              "      <td>1.7</td>\n",
              "      <td>2.7</td>\n",
              "      <td>1.7</td>\n",
              "      <td>...</td>\n",
              "      <td>1.7</td>\n",
              "      <td>2.4</td>\n",
              "      <td>3.0</td>\n",
              "      <td>2.0</td>\n",
              "      <td>2.4</td>\n",
              "      <td>2.0</td>\n",
              "      <td>1.7</td>\n",
              "      <td>2.0</td>\n",
              "      <td>1.7</td>\n",
              "      <td>1.7</td>\n",
              "    </tr>\n",
              "    <tr>\n",
              "      <th>1</th>\n",
              "      <td>4.0</td>\n",
              "      <td>1.0</td>\n",
              "      <td>1.4</td>\n",
              "      <td>1.0</td>\n",
              "      <td>2.7</td>\n",
              "      <td>2.0</td>\n",
              "      <td>1.0</td>\n",
              "      <td>4.0</td>\n",
              "      <td>1.4</td>\n",
              "      <td>1.0</td>\n",
              "      <td>...</td>\n",
              "      <td>1.0</td>\n",
              "      <td>1.7</td>\n",
              "      <td>3.7</td>\n",
              "      <td>1.4</td>\n",
              "      <td>1.7</td>\n",
              "      <td>2.0</td>\n",
              "      <td>3.7</td>\n",
              "      <td>1.0</td>\n",
              "      <td>1.4</td>\n",
              "      <td>1.0</td>\n",
              "    </tr>\n",
              "    <tr>\n",
              "      <th>2</th>\n",
              "      <td>4.0</td>\n",
              "      <td>3.0</td>\n",
              "      <td>4.0</td>\n",
              "      <td>2.7</td>\n",
              "      <td>3.4</td>\n",
              "      <td>4.0</td>\n",
              "      <td>2.7</td>\n",
              "      <td>3.4</td>\n",
              "      <td>3.7</td>\n",
              "      <td>3.7</td>\n",
              "      <td>...</td>\n",
              "      <td>2.4</td>\n",
              "      <td>4.0</td>\n",
              "      <td>3.4</td>\n",
              "      <td>3.7</td>\n",
              "      <td>3.0</td>\n",
              "      <td>3.4</td>\n",
              "      <td>3.7</td>\n",
              "      <td>3.7</td>\n",
              "      <td>3.0</td>\n",
              "      <td>3.0</td>\n",
              "    </tr>\n",
              "    <tr>\n",
              "      <th>3</th>\n",
              "      <td>1.0</td>\n",
              "      <td>2.4</td>\n",
              "      <td>1.4</td>\n",
              "      <td>1.0</td>\n",
              "      <td>1.0</td>\n",
              "      <td>3.7</td>\n",
              "      <td>1.4</td>\n",
              "      <td>1.7</td>\n",
              "      <td>1.0</td>\n",
              "      <td>2.4</td>\n",
              "      <td>...</td>\n",
              "      <td>1.0</td>\n",
              "      <td>2.7</td>\n",
              "      <td>1.0</td>\n",
              "      <td>2.7</td>\n",
              "      <td>1.4</td>\n",
              "      <td>1.4</td>\n",
              "      <td>3.4</td>\n",
              "      <td>1.7</td>\n",
              "      <td>1.4</td>\n",
              "      <td>2.0</td>\n",
              "    </tr>\n",
              "    <tr>\n",
              "      <th>4</th>\n",
              "      <td>3.7</td>\n",
              "      <td>3.7</td>\n",
              "      <td>3.7</td>\n",
              "      <td>3.4</td>\n",
              "      <td>4.0</td>\n",
              "      <td>4.0</td>\n",
              "      <td>3.7</td>\n",
              "      <td>3.4</td>\n",
              "      <td>4.0</td>\n",
              "      <td>3.7</td>\n",
              "      <td>...</td>\n",
              "      <td>1.7</td>\n",
              "      <td>3.7</td>\n",
              "      <td>2.7</td>\n",
              "      <td>3.7</td>\n",
              "      <td>2.4</td>\n",
              "      <td>3.7</td>\n",
              "      <td>2.7</td>\n",
              "      <td>3.7</td>\n",
              "      <td>2.7</td>\n",
              "      <td>3.4</td>\n",
              "    </tr>\n",
              "  </tbody>\n",
              "</table>\n",
              "<p>5 rows × 33 columns</p>\n",
              "</div>"
            ],
            "text/plain": [
              "   PH-121  HS-101  CY-105  HS-105/12  MT-111  CS-105  CS-106  EL-102  EE-119  \\\n",
              "0     2.7     1.4     1.7        2.0     1.7     1.4     1.0     1.7     2.7   \n",
              "1     4.0     1.0     1.4        1.0     2.7     2.0     1.0     4.0     1.4   \n",
              "2     4.0     3.0     4.0        2.7     3.4     4.0     2.7     3.4     3.7   \n",
              "3     1.0     2.4     1.4        1.0     1.0     3.7     1.4     1.7     1.0   \n",
              "4     3.7     3.7     3.7        3.4     4.0     4.0     3.7     3.4     4.0   \n",
              "\n",
              "   ME-107  ...  EF-303  HS-304  CS-301  CS-302  TC-383  EL-332  CS-318  \\\n",
              "0     1.7  ...     1.7     2.4     3.0     2.0     2.4     2.0     1.7   \n",
              "1     1.0  ...     1.0     1.7     3.7     1.4     1.7     2.0     3.7   \n",
              "2     3.7  ...     2.4     4.0     3.4     3.7     3.0     3.4     3.7   \n",
              "3     2.4  ...     1.0     2.7     1.0     2.7     1.4     1.4     3.4   \n",
              "4     3.7  ...     1.7     3.7     2.7     3.7     2.4     3.7     2.7   \n",
              "\n",
              "   CS-306  CS-312  CS-317  \n",
              "0     2.0     1.7     1.7  \n",
              "1     1.0     1.4     1.0  \n",
              "2     3.7     3.0     3.0  \n",
              "3     1.7     1.4     2.0  \n",
              "4     3.7     2.7     3.4  \n",
              "\n",
              "[5 rows x 33 columns]"
            ]
          },
          "execution_count": 127,
          "metadata": {},
          "output_type": "execute_result"
        }
      ],
      "source": [
        "#dropping inputs which don't affect the CGPA prediction of first, second year and third year courses\n",
        "model3X=dataset.drop([\"CS-403\",\"CS-421\", \"CS-406\", \"CS-414\", \"CS-419\", \"CS-423\", \"CS-412\", \"MT-442\", \"Seat No.\", \"CGPA\"], axis='columns')\n",
        "model3X.head() #Model 3 Features"
      ]
    },
    {
      "cell_type": "code",
      "execution_count": null,
      "metadata": {
        "id": "nYw4IugwjAkM"
      },
      "outputs": [],
      "source": [
        "# Splitting the dataset into training and testing set on 80:20 ratio\n",
        "X_train,X_test,Y_train,Y_test = train_test_split(model3X, Y,test_size=0.2,random_state=0)"
      ]
    },
    {
      "cell_type": "markdown",
      "metadata": {
        "id": "CbbUvOfPjAkM"
      },
      "source": [
        "## Algorithm 1: Linear Regression"
      ]
    },
    {
      "cell_type": "code",
      "execution_count": null,
      "metadata": {
        "id": "DnTfLZZFjAkM",
        "outputId": "d9322dac-99a4-4231-e453-8a1e0de19b9b"
      },
      "outputs": [
        {
          "name": "stdout",
          "output_type": "stream",
          "text": [
            "Training Accuracy: 93.50820728538469\n",
            "Testing Accuracy: 95.56728040239842\n"
          ]
        }
      ],
      "source": [
        "#Model3 First Algorithm\n",
        "linear3=LinearRegression()\n",
        "linear3.fit(X_train,Y_train)\n",
        "r_squared=linear3.score(X_test,Y_test) #calculating r-squared\n",
        "print('Training Accuracy:',linear3.score(X_train,Y_train)*100)\n",
        "print('Testing Accuracy:',r_squared*100)"
      ]
    },
    {
      "cell_type": "markdown",
      "metadata": {
        "id": "zoEwN3ywjAkM"
      },
      "source": [
        "## Algorithm 2: Random Forest"
      ]
    },
    {
      "cell_type": "code",
      "execution_count": null,
      "metadata": {
        "id": "6Nec0cMUjAkN",
        "outputId": "0b0e62bc-0380-4496-b630-7165faf71e5a"
      },
      "outputs": [
        {
          "name": "stdout",
          "output_type": "stream",
          "text": [
            "Training Accuracy: 98.152669623483\n",
            "Testing Accuracy: 94.31213960158509\n"
          ]
        }
      ],
      "source": [
        "# Model 3 Second Algorithm\n",
        "forest3=RandomForestRegressor(n_estimators=20, max_depth=10, criterion='mse')\n",
        "# train model\n",
        "forest3.fit(X_train,Y_train.values.ravel())\n",
        "print('Training Accuracy:',forest3.score(X_train,Y_train)*100)\n",
        "print('Testing Accuracy:',forest3.score(X_test, Y_test)*100)"
      ]
    },
    {
      "cell_type": "markdown",
      "metadata": {
        "id": "P_vxh06WjAkN"
      },
      "source": [
        "# Implementing UI/UX"
      ]
    },
    {
      "cell_type": "code",
      "execution_count": null,
      "metadata": {
        "id": "nD79GrhwjAkN"
      },
      "outputs": [],
      "source": [
        "# Dropdown options defined for UI/UX\n",
        "PH121 = gr.Dropdown(['A+', 'A', 'A-','B+', 'B','B-', 'C+','C','C-','D+','D', 'F', 'IP','P','X','I','W','WU'], label ='PH-121')\n",
        "HS101 = gr.Dropdown(choices=['A+', 'A', 'A-','B+', 'B','B-', 'C+','C','C-','D+','D', 'F', 'IP','P','X','I','W','WU'], label = 'HS-101')\n",
        "CY105 = gr.Dropdown(choices=['A+', 'A', 'A-','B+', 'B','B-', 'C+','C','C-','D+','D', 'F', 'IP','P','X','I','W','WU'], label = 'CY-105')\n",
        "HS105 = gr.Dropdown(choices=['A+', 'A', 'A-','B+', 'B','B-', 'C+','C','C-','D+','D', 'F', 'IP','P','X','I','W','WU'], label = 'HS-105')\n",
        "MT111 = gr.Dropdown(choices=['A+', 'A', 'A-','B+', 'B','B-', 'C+','C','C-','D+','D', 'F', 'IP','P','X','I','W','WU'], label = 'MT-111')\n",
        "CS105 = gr.Dropdown(choices=['A+', 'A', 'A-','B+', 'B','B-', 'C+','C','C-','D+','D', 'F', 'IP','P','X','I','W','WU'], label = 'CS-105')\n",
        "CS106 = gr.Dropdown(choices=['A+', 'A', 'A-','B+', 'B','B-', 'C+','C','C-','D+','D', 'F', 'IP','P','X','I','W','WU'], label = 'CS-106')\n",
        "EL102 = gr.Dropdown(choices=['A+', 'A', 'A-','B+', 'B','B-', 'C+','C','C-','D+','D', 'F', 'IP','P','X','I','W','WU'], label = 'EL-102')\n",
        "EE119 = gr.Dropdown(choices=['A+', 'A', 'A-','B+', 'B','B-', 'C+','C','C-','D+','D', 'F', 'IP','P','X','I','W','WU'], label = 'EE-119')\n",
        "ME107 = gr.Dropdown(choices=['A+', 'A', 'A-','B+', 'B','B-', 'C+','C','C-','D+','D', 'F', 'IP','P','X','I','W','WU'], label = 'ME-107')\n",
        "CS107 = gr.Dropdown(choices=['A+', 'A', 'A-','B+', 'B','B-', 'C+','C','C-','D+','D', 'F', 'IP','P','X','I','W','WU'], label = 'CS-107')\n",
        "HS205 = gr.Dropdown(choices=['A+', 'A', 'A-','B+', 'B','B-', 'C+','C','C-','D+','D', 'F', 'IP','P','X','I','W','WU'], label = 'HS-205')\n",
        "MT222 = gr.Dropdown(choices=['A+', 'A', 'A-','B+', 'B','B-', 'C+','C','C-','D+','D', 'F', 'IP','P','X','I','W','WU'], label = 'MT-222')\n",
        "EE222 = gr.Dropdown(choices=['A+', 'A', 'A-','B+', 'B','B-', 'C+','C','C-','D+','D', 'F', 'IP','P','X','I','W','WU'], label = 'EE-222')\n",
        "MT224 = gr.Dropdown(choices=['A+', 'A', 'A-','B+', 'B','B-', 'C+','C','C-','D+','D', 'F', 'IP','P','X','I','W','WU'], label = 'MT-224')\n",
        "CS210 = gr.Dropdown(choices=['A+', 'A', 'A-','B+', 'B','B-', 'C+','C','C-','D+','D', 'F', 'IP','P','X','I','W','WU'], label = 'CS-210')\n",
        "CS211 = gr.Dropdown(choices=['A+', 'A', 'A-','B+', 'B','B-', 'C+','C','C-','D+','D', 'F', 'IP','P','X','I','W','WU'], label = 'CS-211')\n",
        "CS203 = gr.Dropdown(choices=['A+', 'A', 'A-','B+', 'B','B-', 'C+','C','C-','D+','D', 'F', 'IP','P','X','I','W','WU'], label = 'CS-203')\n",
        "CS214 = gr.Dropdown(choices=['A+', 'A', 'A-','B+', 'B','B-', 'C+','C','C-','D+','D', 'F', 'IP','P','X','I','W','WU'], label = 'CS-214')\n",
        "EE217 = gr.Dropdown(choices=['A+', 'A', 'A-','B+', 'B','B-', 'C+','C','C-','D+','D', 'F', 'IP','P','X','I','W','WU'], label = 'EE-217')\n",
        "CS212 = gr.Dropdown(choices=['A+', 'A', 'A-','B+', 'B','B-', 'C+','C','C-','D+','D', 'F', 'IP','P','X','I','W','WU'], label = 'CS-212')\n",
        "CS215 = gr.Dropdown(choices=['A+', 'A', 'A-','B+', 'B','B-', 'C+','C','C-','D+','D', 'F', 'IP','P','X','I','W','WU'], label = 'CS-215')\n",
        "MT331 = gr.Dropdown(choices=['A+', 'A', 'A-','B+', 'B','B-', 'C+','C','C-','D+','D', 'F', 'IP','P','X','I','W','WU'], label = 'MT-331')\n",
        "EF303 = gr.Dropdown(choices=['A+', 'A', 'A-','B+', 'B','B-', 'C+','C','C-','D+','D', 'F', 'IP','P','X','I','W','WU'], label = 'EF-303')\n",
        "HS304 = gr.Dropdown(choices=['A+', 'A', 'A-','B+', 'B','B-', 'C+','C','C-','D+','D', 'F', 'IP','P','X','I','W','WU'], label = 'HS-304')\n",
        "CS301 = gr.Dropdown(choices=['A+', 'A', 'A-','B+', 'B','B-', 'C+','C','C-','D+','D', 'F', 'IP','P','X','I','W','WU'], label = 'CS-301')\n",
        "CS302 = gr.Dropdown(choices=['A+', 'A', 'A-','B+', 'B','B-', 'C+','C','C-','D+','D', 'F', 'IP','P','X','I','W','WU'], label = 'CS-302')\n",
        "TC383 = gr.Dropdown(choices=['A+', 'A', 'A-','B+', 'B','B-', 'C+','C','C-','D+','D', 'F', 'IP','P','X','I','W','WU'], label = 'TC-383')\n",
        "EL332 = gr.Dropdown(choices=['A+', 'A', 'A-','B+', 'B','B-', 'C+','C','C-','D+','D', 'F', 'IP','P','X','I','W','WU'], label = 'EL-332')\n",
        "CS318 = gr.Dropdown(choices=['A+', 'A', 'A-','B+', 'B','B-', 'C+','C','C-','D+','D', 'F', 'IP','P','X','I','W','WU'], label = 'CS-318')\n",
        "CS306 = gr.Dropdown(choices=['A+', 'A', 'A-','B+', 'B','B-', 'C+','C','C-','D+','D', 'F', 'IP','P','X','I','W','WU'], label = 'CS-306')\n",
        "CS312 = gr.Dropdown(choices=['A+', 'A', 'A-','B+', 'B','B-', 'C+','C','C-','D+','D', 'F', 'IP','P','X','I','W','WU'], label = 'CS-312')\n",
        "CS317 = gr.Dropdown(choices=['A+', 'A', 'A-','B+', 'B','B-', 'C+','C','C-','D+','D', 'F', 'IP','P','X','I','W','WU'], label = 'CS-317')\n",
        "text1 = gr.Textbox(label=\"CGPA Predicted By Linear Regression model\")\n",
        "text2 = gr.Textbox(label=\"CGPA Predicted By Random Forest model\")"
      ]
    },
    {
      "cell_type": "code",
      "execution_count": null,
      "metadata": {
        "id": "uN0zfPorjAkN"
      },
      "outputs": [],
      "source": [
        "def conversion(grades):\n",
        "#     This function takes a list of grades as input,\n",
        "#     converts the value of grades into their corresponding gpa value and returns the list of grades as 2d list.\n",
        "    for i in range(len(grades)):\n",
        "        if grades[i]=='A+' or grades[i]=='A':\n",
        "            grades[i]=4.0\n",
        "        elif grades[i]=='A-':\n",
        "            grades[i]=3.7\n",
        "        elif grades[i]=='B+':\n",
        "            grades[i]=3.4\n",
        "        elif grades[i]=='B':\n",
        "            grades[i]=3.0\n",
        "        elif grades[i]=='B-':\n",
        "            grades[i]=2.7\n",
        "        elif grades[i]=='C+':\n",
        "            grades[i]=2.4\n",
        "        elif grades[i]=='C':\n",
        "            grades[i]=2.0\n",
        "        elif grades[i]=='C-':\n",
        "            grades[i]=1.7\n",
        "        elif grades[i]=='D+':\n",
        "            grades[i]=1.4\n",
        "        elif grades[i]=='D':\n",
        "            grades[i]=1.0\n",
        "        else:\n",
        "            grades[i]=0.0\n",
        "    return [grades]"
      ]
    },
    {
      "cell_type": "code",
      "execution_count": null,
      "metadata": {
        "id": "-rj4dTSyjAkN"
      },
      "outputs": [],
      "source": [
        "#Prediction Of CGPA\n",
        "def pred(Model, *grade):\n",
        "    # Takes grades of courses from interface as input and return the prediction of CGPA.\n",
        "    grades=[]\n",
        "    for i in grade:\n",
        "        grades.append(i) #putting all inputs in a list\n",
        "    gpa = conversion(grades) # calls a function 'conversion' which converts grades into their gpa values\n",
        "    if Model==\"Model 1\":\n",
        "        # predicts cgpa based on all gpa values of 1st year\n",
        "        prediction1 = str(linear1.predict(gpa))\n",
        "        prediction2 = str(forest1.predict(gpa))\n",
        "    elif Model==\"Model 2\":\n",
        "         # predicts cgpa based on all gpa values of 1st and 2nd year\n",
        "        prediction1 = str(linear2.predict(gpa))\n",
        "        prediction2 = str(forest2.predict(gpa))\n",
        "    else:\n",
        "         # predicts cgpa based on all gpa values of 1st, 2nd and 3rd year\n",
        "        prediction1 = str(linear3.predict(gpa))\n",
        "        prediction2 = str(forest3.predict(gpa))\n",
        "    return prediction1[2:7], prediction2[1:6]"
      ]
    },
    {
      "cell_type": "code",
      "execution_count": null,
      "metadata": {
        "id": "5nVAF-6vjAkO"
      },
      "outputs": [],
      "source": [
        "#Launching UI/UX for Model 1\n",
        "Model1 = gr.Variable(value=\"Model 1\")\n",
        "demo1 = gr.Interface(pred, inputs=[Model1, PH121,HS101,CY105,HS105,MT111,CS105,CS106,EL102,EE119,ME107,CS107],\n",
        "             outputs=[text1, text2], title=\"CGPA Prediction on 1st Year Grades\", allow_flagging=\"never\")"
      ]
    },
    {
      "cell_type": "code",
      "execution_count": null,
      "metadata": {
        "id": "ZFSLlNS1jAkO"
      },
      "outputs": [],
      "source": [
        "#Launching UI/UX for Model 2\n",
        "Model2 = gr.Variable(value=\"Model 2\")\n",
        "demo2 = gr.Interface(pred, inputs=[Model2, PH121,HS101,CY105,HS105,MT111,CS105,CS106,EL102,EE119,ME107,CS107, HS205,MT222,EE222,MT224,\n",
        "                                  CS210,CS211,CS203,CS214,EE217,CS212,CS215],\n",
        "             outputs=[text1, text2], title=\"CGPA Prediction on 1st & 2nd Year Grades\", allow_flagging=\"never\")"
      ]
    },
    {
      "cell_type": "code",
      "execution_count": null,
      "metadata": {
        "id": "MlgVde_9jAkO"
      },
      "outputs": [],
      "source": [
        "#Launching UI/UX for Model 3\n",
        "Model3 = gr.Variable(value=\"Model 3\")\n",
        "demo3 = gr.Interface(pred, inputs=[Model3, PH121,HS101,CY105,HS105,MT111,CS105,CS106,EL102,EE119,ME107,CS107,HS205,MT222,EE222,MT224,\n",
        "                                  CS210,CS211,CS203,CS214,EE217,CS212,CS215,MT331,EF303,HS304,CS301,CS302,TC383,EL332,CS318,\n",
        "                                  CS306,CS312,CS317],\n",
        "             outputs=[text1, text2], title=\"CGPA Prediction on 1st, 2nd & 3rd Year Grades\", allow_flagging=\"never\")"
      ]
    },
    {
      "cell_type": "code",
      "execution_count": null,
      "metadata": {
        "id": "vcZljzYsjAkS",
        "outputId": "8b1eb40d-e67b-4c0e-be29-ea5f18245517"
      },
      "outputs": [
        {
          "name": "stdout",
          "output_type": "stream",
          "text": [
            "Running on local URL:  http://127.0.0.1:7875/\n",
            "\n",
            "To create a public link, set `share=True` in `launch()`.\n"
          ]
        },
        {
          "data": {
            "text/html": [
              "<div><iframe src=\"http://127.0.0.1:7875/\" width=\"900\" height=\"500\" allow=\"autoplay; camera; microphone;\" frameborder=\"0\" allowfullscreen></iframe></div>"
            ],
            "text/plain": [
              "<IPython.core.display.HTML object>"
            ]
          },
          "metadata": {},
          "output_type": "display_data"
        },
        {
          "data": {
            "text/plain": [
              "(<gradio.routes.App at 0x1fc2b0e2688>, 'http://127.0.0.1:7875/', None)"
            ]
          },
          "execution_count": 140,
          "metadata": {},
          "output_type": "execute_result"
        }
      ],
      "source": [
        "demo = gr.TabbedInterface([demo1, demo2, demo3], [\"Model 1\", \"Model 2\", \"Model 3\"])\n",
        "demo.launch(inbrowser=\"True\")"
      ]
    },
    {
      "cell_type": "code",
      "execution_count": null,
      "metadata": {
        "id": "Q_7NjNzAjAkT"
      },
      "outputs": [],
      "source": []
    }
  ],
  "metadata": {
    "kernelspec": {
      "display_name": "Python 3",
      "language": "python",
      "name": "python3"
    },
    "language_info": {
      "codemirror_mode": {
        "name": "ipython",
        "version": 3
      },
      "file_extension": ".py",
      "mimetype": "text/x-python",
      "name": "python",
      "nbconvert_exporter": "python",
      "pygments_lexer": "ipython3",
      "version": "3.7.6"
    },
    "colab": {
      "provenance": []
    }
  },
  "nbformat": 4,
  "nbformat_minor": 0
}